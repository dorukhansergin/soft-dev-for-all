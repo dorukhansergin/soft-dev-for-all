{
 "cells": [
  {
   "cell_type": "markdown",
   "metadata": {},
   "source": [
    "# Explaining OOP\n",
    "* Start with the vehicle example, make people think about the issue\n",
    "* A vehicle is an object class, it defines all the things that is shared by the vehicle\n",
    "* But where do we stop populating this definition? It's dependent on the level of detail that we want to cover for our application.\n",
    "* Let's code. \n",
    "* Let's start with learning how to define functions which will be needed\n",
    "```python\n",
    "def <function_name>(<argument_1>, <argument_2>, <etc.>):\n",
    "    # (Optional) Function doesn't have to take any arguments\n",
    "    # Function does something here, possibly using arguments\n",
    "    # (Optional) function returns something\n",
    "```\n",
    "\n"
   ]
  },
  {
   "cell_type": "code",
   "execution_count": null,
   "metadata": {},
   "outputs": [],
   "source": [
    "class Vehicle();\n",
    "    "
   ]
  }
 ],
 "metadata": {
  "anaconda-cloud": {},
  "kernelspec": {
   "display_name": "Python [default]",
   "language": "python",
   "name": "python2"
  },
  "language_info": {
   "codemirror_mode": {
    "name": "ipython",
    "version": 2
   },
   "file_extension": ".py",
   "mimetype": "text/x-python",
   "name": "python",
   "nbconvert_exporter": "python",
   "pygments_lexer": "ipython2",
   "version": "2.7.14"
  }
 },
 "nbformat": 4,
 "nbformat_minor": 2
}
