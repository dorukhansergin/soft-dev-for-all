{
 "cells": [
  {
   "cell_type": "markdown",
   "metadata": {},
   "source": [
    "# OOP\n",
    "* Start with the vehicle example, make people think about the issue\n",
    "* A vehicle is an object class, it defines all the things that is shared by the vehicle\n",
    "* But where do we stop populating this definition? It's dependent on the level of detail that we want to cover for our application.\n",
    "* Let's code. \n",
    "* Let's start with learning how to define functions which will be needed\n",
    "```python\n",
    "def <function_name>(<argument_1>, <argument_2>, <etc.>):\n",
    "    # (Optional) Function doesn't have to take any arguments\n",
    "    # Function does something here, possibly using arguments\n",
    "    # (Optional) function returns something\n",
    "```\n",
    "\n",
    "\n",
    "* When you run the following code, Python creates and stores a blueprint of the function with the given name my_sum_function\n",
    "\n",
    "* Then it actually uses to function to sum the two things it was given.\n",
    "\n"
   ]
  },
  {
   "cell_type": "markdown",
   "metadata": {},
   "source": [
    "### Example 1:\n",
    "* Now some of you might be anxious about the question -> How do I even run anything with python\n",
    "    1. Go to where you want to create the file\n",
    "    2. ```echo > <filename>.py``` to create an empty file\n",
    "    3. ```cat filename.py``` to make sure the file exists and it's actually an empty file\n",
    "    4. ```jupyter notebook``` to open your editor\n",
    "    5. open the file and start typing whatever you want to type\n",
    "    6. when done MAKE SURE YOU SAVE THE FILE\n",
    "    7. go to your AnaConda CLI, ```python filename.py``` \n",
    "    8. make sure you create a new file for every new exercises"
   ]
  },
  {
   "cell_type": "code",
   "execution_count": 3,
   "metadata": {
    "ExecuteTime": {
     "end_time": "2018-06-10T23:37:10.847151Z",
     "start_time": "2018-06-10T23:37:10.830641Z"
    }
   },
   "outputs": [
    {
     "name": "stdout",
     "output_type": "stream",
     "text": [
      "Summing two numbers\n"
     ]
    },
    {
     "data": {
      "text/plain": [
       "3"
      ]
     },
     "execution_count": 3,
     "metadata": {},
     "output_type": "execute_result"
    }
   ],
   "source": [
    "def my_sum_function(summand_1, summand_2):\n",
    "    print (\"Summing two numbers\")\n",
    "    return summand_1 + summand_2\n",
    "\n",
    "answer = my_sum_function(1,2)    \n",
    "print(answer)"
   ]
  },
  {
   "cell_type": "markdown",
   "metadata": {},
   "source": [
    "### Example 2:\n",
    "* Functions need not take arguments nor they need to return anything. "
   ]
  },
  {
   "cell_type": "code",
   "execution_count": 4,
   "metadata": {
    "ExecuteTime": {
     "end_time": "2018-06-10T23:23:23.391000Z",
     "start_time": "2018-06-10T23:23:23.384000Z"
    }
   },
   "outputs": [
    {
     "name": "stdout",
     "output_type": "stream",
     "text": [
      "I am so useless\n"
     ]
    }
   ],
   "source": [
    "def my_print_function():\n",
    "    print \"I am so useless...\"\n",
    "\n",
    "my_print_function()"
   ]
  },
  {
   "cell_type": "markdown",
   "metadata": {},
   "source": [
    "### Example 3:\n",
    "* Watch out for the brackets. \n",
    "* The brackets help us *call* the function. Try it without the brackets and see what happens."
   ]
  },
  {
   "cell_type": "code",
   "execution_count": 5,
   "metadata": {
    "ExecuteTime": {
     "end_time": "2018-06-10T23:24:46.578000Z",
     "start_time": "2018-06-10T23:24:46.568000Z"
    }
   },
   "outputs": [
    {
     "data": {
      "text/plain": [
       "<function __main__.my_print_function>"
      ]
     },
     "execution_count": 5,
     "metadata": {},
     "output_type": "execute_result"
    }
   ],
   "source": [
    "def my_print_function():\n",
    "    print \"I am so useless...\"\n",
    "\n",
    "print(my_print_function)"
   ]
  },
  {
   "cell_type": "markdown",
   "metadata": {},
   "source": [
    "### Lab 1:\n",
    "* Now you write ```my_subtract_function```, ```my_product_function```, ```my_division_function```\n",
    "* Write them all in seperate files.\n",
    "* Use the echo procedure for each file\n",
    "* ```git status```, ```git add -A```, ```git commit -m <Message>``` for each file.\n"
   ]
  },
  {
   "cell_type": "markdown",
   "metadata": {},
   "source": [
    "### Example 4:"
   ]
  },
  {
   "cell_type": "markdown",
   "metadata": {
    "ExecuteTime": {
     "end_time": "2018-06-10T23:37:25.924329Z",
     "start_time": "2018-06-10T23:37:25.918831Z"
    }
   },
   "source": [
    "Let's define the Vehicle class. But first, how to define any class?\n",
    "\n",
    "```python\n",
    "class <ClassName>:\n",
    "    # Define things about class here\n",
    "```\n"
   ]
  },
  {
   "cell_type": "code",
   "execution_count": 4,
   "metadata": {
    "ExecuteTime": {
     "end_time": "2018-06-10T23:37:17.923624Z",
     "start_time": "2018-06-10T23:37:17.918119Z"
    },
    "code_folding": []
   },
   "outputs": [
    {
     "data": {
      "text/plain": [
       "<__main__.Vehicle at 0x1febce18c88>"
      ]
     },
     "execution_count": 4,
     "metadata": {},
     "output_type": "execute_result"
    }
   ],
   "source": [
    "class Vehicle:\n",
    "    pass # basically means do nothing\n",
    "\n",
    "x = Vehicle()\n",
    "print(x)"
   ]
  },
  {
   "cell_type": "markdown",
   "metadata": {},
   "source": [
    "### Example 5:\n",
    "Let's define some *attributes* and *methods* for our class.\n",
    "Before that, what's ```self```? It's the keyword that refers to the instance that is created it i.e. if you want to get or set anything about that specific instance of the class, you use self\n",
    "```python\n",
    "class Vehicle:\n",
    "    self.<attribute_name> = <value>\n",
    "    \n",
    "    def <method_name>():\n",
    "        # do whatever you want to do\n",
    "```\n",
    "\n",
    "#### SYNTAX ALERT\n",
    "To refer to anything that belongs to a class, *attribute* or *method*, use dot right after the name you assigned to the *instance* of that variable."
   ]
  },
  {
   "cell_type": "code",
   "execution_count": 12,
   "metadata": {
    "ExecuteTime": {
     "end_time": "2018-06-11T00:36:10.399249Z",
     "start_time": "2018-06-11T00:36:10.394246Z"
    }
   },
   "outputs": [
    {
     "name": "stdout",
     "output_type": "stream",
     "text": [
      "ABC 1234\n"
     ]
    }
   ],
   "source": [
    "class Vehicle:\n",
    "    \n",
    "    def set_plate(self, plate):\n",
    "        self.plate = plate\n",
    "    \n",
    "    def get_plate(self):\n",
    "        print(self.plate)\n",
    "\n",
    "new_vehicle = Vehicle()\n",
    "new_vehicle.set_plate(\"ABC 1234\")\n",
    "new_vehicle.get_plate()"
   ]
  },
  {
   "cell_type": "markdown",
   "metadata": {},
   "source": [
    "```self``` lives only inside the class blueprint. You can't access it and it doesn't make sense because in this case ```new_vehicle``` is already what we have defined for ```self```. \n",
    "\n",
    "#### Food for thought\n",
    "Why do we need self???\n",
    "\n",
    "```self``` is something we use because we don't and can't know the name of the variable beforehand. There will be multiple instances of the variable anyway."
   ]
  },
  {
   "cell_type": "markdown",
   "metadata": {},
   "source": [
    "### Example 6:\n",
    "* Let's create the class ```Car``` using the class ```Vehicle```. \n",
    "* Don't forget to copy and paste (ehem, rewrite) the ```Vehicle``` blueprint you just created because it builds on top of it."
   ]
  },
  {
   "cell_type": "code",
   "execution_count": 14,
   "metadata": {
    "ExecuteTime": {
     "end_time": "2018-06-11T00:42:38.834766Z",
     "start_time": "2018-06-11T00:42:38.829262Z"
    }
   },
   "outputs": [
    {
     "name": "stdout",
     "output_type": "stream",
     "text": [
      "ABC 1234\n",
      "Vroooooooom!\n"
     ]
    }
   ],
   "source": [
    "class Vehicle:    \n",
    "    def set_plate(self, plate):\n",
    "        self.plate = plate\n",
    "    \n",
    "    def get_plate(self):\n",
    "        print(self.plate)\n",
    "        \n",
    "    def run(self):\n",
    "        pass\n",
    "        \n",
    "        \n",
    "class Car(Vehicle):\n",
    "    def run(self):\n",
    "        print('Vroooooooom!')\n",
    "        \n",
    "my_car = Car()\n",
    "my_car.set_plate('ABC 1234')\n",
    "my_car.get_plate()\n",
    "my_car.run()"
   ]
  },
  {
   "cell_type": "markdown",
   "metadata": {},
   "source": [
    "#### What happened?\n",
    "* ```Car``` inherited ```set_plate```, ```get_plate``` and ```run``` from it's parent class ```Vehicle```.\n",
    "* ```Car``` overrid (rewrote, replaced) the attribute ```run```"
   ]
  },
  {
   "cell_type": "markdown",
   "metadata": {},
   "source": [
    "### Example 7:\n",
    "* Finally, we learn the about the ```__init__``` function.\n",
    "* Remember we call functions with brackets? ```__init__``` is the secret function we call when we call the class ```Vehicle``` or ```Car```. If we don't define it, it basically does nothing. \n",
    "* There are certain things that we have to define about a vehicle as soon as we create them. Think of these as *vital attributes*. Let's say for our specific application, a car MUST have a plate. So here is how we define the ```__init__``` function and we use it, instead of set_plate.\n",
    "* One last thing is that we actually don't need the *get function* anymore, we can simply call ```plate``` it using the dot syntax"
   ]
  },
  {
   "cell_type": "code",
   "execution_count": 17,
   "metadata": {
    "ExecuteTime": {
     "end_time": "2018-06-11T01:08:42.302478Z",
     "start_time": "2018-06-11T01:08:42.295472Z"
    }
   },
   "outputs": [
    {
     "name": "stdout",
     "output_type": "stream",
     "text": [
      "ABC 1234\n",
      "Vroooooooom!\n"
     ]
    }
   ],
   "source": [
    "class Vehicle:    \n",
    "    def __init__(self, plate):\n",
    "        self.plate = plate\n",
    "        \n",
    "    def run(self):\n",
    "        pass\n",
    "        \n",
    "        \n",
    "class Car(Vehicle):\n",
    "    def run(self):\n",
    "        print('Vroooooooom!')\n",
    "        \n",
    "my_car = Car('ABC 1234')\n",
    "print(my_car.plate)\n",
    "my_car.run()"
   ]
  },
  {
   "cell_type": "markdown",
   "metadata": {},
   "source": [
    "### Last words for the examples part\n",
    "For a long while, these will be the only things you have to know about OOP really. There are of course, much more into it. But why bother when you only need this much. And since you know the basics, it's know much easier for you to learn more about it. \n",
    "\n",
    "TODO: Provide extra reading for the curious"
   ]
  },
  {
   "cell_type": "markdown",
   "metadata": {},
   "source": [
    "## Project Time! Game of Thrones but OOP\n",
    "* **Task-1:** create a class named ```GoTCharacter```. The class should have methods ```set_name()```, ```get_name()```, ```set_quote()```, ```yell_quote()```. These methods should be doing the exact same thing as the Vehicle example.\n",
    "* **Task-2:** create a class that inherits from ```GoTCharacter```, named ```NobleCharacter```, ```IllegitimateCharacter```\n",
    "    * **Task-2.1:**`NobleCharacter``` should have methods called ```set_house```  and ```get_house``` as an attribute\n",
    "    * **Task-2.2:**```IllegitimateCharacter``` should have ```get_illegitimate_surname```, ```set_illegitimate_surname``` methods.\n",
    "    * Don't try your code yet!!! Just ```git add``` and ```git commit -m <message>```\n",
    "* **Task-3:** Now create instances ```cersei```, ```dany``` as ```NobleCharacter``` and create ```jon``` as ```IllegitimateCharacter```. If you know the series, you'd know their names, surnames, quotes, houses. Otherwise you can google ```Game of Thrones Wiki``` or ask a friend nearby.\n",
    "* **Task-4:** Now write the __init__ function for both ```NobleCharacter``` and ```IllegitimateCharacter```. Remember that ```GoTCharacter``` still has unwanted stuff there. Get rid of it.\n",
    "\n",
    "### final look at the GoT Wiki and how it is related to OOP"
   ]
  },
  {
   "cell_type": "code",
   "execution_count": null,
   "metadata": {},
   "outputs": [],
   "source": []
  }
 ],
 "metadata": {
  "anaconda-cloud": {},
  "kernelspec": {
   "display_name": "Python [conda env:experiments-py3]",
   "language": "python",
   "name": "conda-env-experiments-py3-py"
  }
 },
 "nbformat": 4,
 "nbformat_minor": 2
}
